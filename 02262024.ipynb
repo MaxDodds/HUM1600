{
  "nbformat": 4,
  "nbformat_minor": 0,
  "metadata": {
    "colab": {
      "provenance": [],
      "authorship_tag": "ABX9TyM9/TqrPT6+S+9RyGWvNpXg",
      "include_colab_link": true
    },
    "kernelspec": {
      "name": "python3",
      "display_name": "Python 3"
    },
    "language_info": {
      "name": "python"
    }
  },
  "cells": [
    {
      "cell_type": "markdown",
      "metadata": {
        "id": "view-in-github",
        "colab_type": "text"
      },
      "source": [
        "<a href=\"https://colab.research.google.com/github/MaxDodds/HUM1600/blob/main/02262024.ipynb\" target=\"_parent\"><img src=\"https://colab.research.google.com/assets/colab-badge.svg\" alt=\"Open In Colab\"/></a>"
      ]
    },
    {
      "cell_type": "code",
      "execution_count": null,
      "metadata": {
        "colab": {
          "base_uri": "https://localhost:8080/"
        },
        "id": "_pXGusAkyGQo",
        "outputId": "1ec9b672-fd4a-48b0-a357-b6448d63a22e"
      },
      "outputs": [
        {
          "output_type": "stream",
          "name": "stdout",
          "text": [
            "['To', 'be', 'or', 'not', 'to', 'be']\n"
          ]
        }
      ],
      "source": [
        "# String Splitting\n",
        "s = \"To be or not to be\"\n",
        "lst = s.split()\n",
        "print(lst)"
      ]
    },
    {
      "cell_type": "code",
      "source": [
        "# Case Managing\n",
        "shake_string = \"To be or not to be, that is the question.\"\n",
        "out_string = \"\"\n",
        "punctuation = [\"!\", \"\\\"\", \"#\", \"$\", \"%\", \"&\", \"\\'\",\n",
        "               \"(\", \")\", \"*\", \"+\", \",\", \"-\", \".\",\n",
        "               \"/\", \":\", \";\", \"<\", \"=\", \">\", \"?\",\n",
        "               \"@\", \"[\", \"\\\\\", \"]\", \"^\", \"_\", \"{\",\n",
        "               \"|\", \"}\", \"~\", \"`\", \".\"]\n",
        "for s in shake_string:\n",
        "  if s not in punctuation:\n",
        "    out_string += s\n",
        "print(shake_string)\n",
        "print(out_string)"
      ],
      "metadata": {
        "colab": {
          "base_uri": "https://localhost:8080/"
        },
        "id": "IjJNZ2hZ1Mgg",
        "outputId": "ed4908e9-29a8-414f-e799-544eb7277f90"
      },
      "execution_count": null,
      "outputs": [
        {
          "output_type": "stream",
          "name": "stdout",
          "text": [
            "To be or not to be, that is the question.\n",
            "To be or not to be that is the question\n"
          ]
        }
      ]
    },
    {
      "cell_type": "code",
      "source": [
        "# Accumulation w/ loop\n",
        "txt = \"to be or not to be that is the question\"\n",
        "accumulator = 0\n",
        "lst = txt.split()\n",
        "for tok in lst:\n",
        "  accumulator += 1\n",
        "\n",
        "print(\"Number of words (tokens) in the string:\", accumulator)\n",
        "\n",
        "# Accumulation w/ function\n",
        "print(\"Number of words (tokens) in the string:\", len(lst))\n",
        "\n",
        "#Search\n",
        "search_word = \"be\"\n",
        "total = 0\n",
        "for x in lst:\n",
        "  if x == search_word:\n",
        "    total += 1\n",
        "\n",
        "print(\"Number of occurrences of the word\", search_word, \"is\", total, end=\".\")"
      ],
      "metadata": {
        "colab": {
          "base_uri": "https://localhost:8080/"
        },
        "id": "cRWcJZwi24fV",
        "outputId": "1ae74c83-06bc-48f1-d023-687ddc4d4995"
      },
      "execution_count": null,
      "outputs": [
        {
          "output_type": "stream",
          "name": "stdout",
          "text": [
            "Number of words (tokens) in the string: 10\n",
            "Number of words (tokens) in the string: 10\n",
            "Number of occurrences of the word be is 2."
          ]
        }
      ]
    },
    {
      "cell_type": "code",
      "source": [
        "# List Reversing\n",
        "txt = \"to be or not to be that is the question\"\n",
        "lst = txt.split()\n",
        "rev_lst = []\n",
        "for tok in lst:\n",
        "  rev_lst.insert(0, tok)\n",
        "\n",
        "print(\"Original List\", lst)\n",
        "print(\"Reversed List\", rev_lst)"
      ],
      "metadata": {
        "colab": {
          "base_uri": "https://localhost:8080/"
        },
        "id": "yiCJDsw-6CtB",
        "outputId": "524bc87d-7878-4187-f138-0050c24ccb15"
      },
      "execution_count": null,
      "outputs": [
        {
          "output_type": "stream",
          "name": "stdout",
          "text": [
            "Original List ['to', 'be', 'or', 'not', 'to', 'be', 'that', 'is', 'the', 'question']\n",
            "Reversed List ['question', 'the', 'is', 'that', 'be', 'to', 'not', 'or', 'be', 'to']\n"
          ]
        }
      ]
    }
  ]
}
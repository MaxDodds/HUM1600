{
  "nbformat": 4,
  "nbformat_minor": 0,
  "metadata": {
    "colab": {
      "provenance": [],
      "authorship_tag": "ABX9TyPrMyPmF8JoTe86DB127mi4"
    },
    "kernelspec": {
      "name": "python3",
      "display_name": "Python 3"
    },
    "language_info": {
      "name": "python"
    }
  },
  "cells": [
    {
      "cell_type": "code",
      "execution_count": null,
      "metadata": {
        "colab": {
          "base_uri": "https://localhost:8080/"
        },
        "id": "HGQM_EAWFXWv",
        "outputId": "91908a0e-db24-4e67-e10a-ee19a382c2ce"
      },
      "outputs": [
        {
          "output_type": "stream",
          "name": "stdout",
          "text": [
            "Equal\n",
            "5\n",
            "4\n",
            "<class 'str'>\n",
            "HELLO\n",
            "Equal\n",
            "5\n",
            "4\n",
            "<class 'str'>\n",
            "HELLO\n"
          ]
        }
      ],
      "source": [
        "x = 5\n",
        "if x > 5:\n",
        "  print(\"Yes\")\n",
        "elif x == 5:\n",
        "  print(\"Equal\")\n",
        "else:\n",
        "  print(\"No\")\n",
        "\n",
        "s = \"hello\"\n",
        "print(len(s))\n",
        "lst = [2, 4, 6, 8]\n",
        "print(len(lst))\n",
        "\n",
        "print(type(s))\n",
        "print(s.upper())\n"
      ]
    },
    {
      "cell_type": "code",
      "source": [
        "# Void Function\n",
        "def callout(x):\n",
        "  print(\"Hello\", x)\n",
        "\n",
        "callout(\"max\")\n",
        "\n",
        "# Return Function\n",
        "def calc_formula(x, y):\n",
        "  return x*y\n",
        "\n",
        "x = calc_formula(2, 3);\n",
        "\n",
        "print(x)"
      ],
      "metadata": {
        "colab": {
          "base_uri": "https://localhost:8080/"
        },
        "id": "teWjz277OniU",
        "outputId": "043e679a-76c8-4855-abda-0a91e4827e85"
      },
      "execution_count": null,
      "outputs": [
        {
          "output_type": "stream",
          "name": "stdout",
          "text": [
            "Hello max\n",
            "6\n"
          ]
        }
      ]
    },
    {
      "cell_type": "code",
      "source": [],
      "metadata": {
        "id": "9mdDpTV7Qq0t"
      },
      "execution_count": null,
      "outputs": []
    }
  ]
}